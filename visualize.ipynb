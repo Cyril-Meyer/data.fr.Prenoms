{
 "cells": [
  {
   "cell_type": "code",
   "execution_count": null,
   "id": "9538a12a-b791-4b08-90a5-80b74153de25",
   "metadata": {},
   "outputs": [],
   "source": [
    "import pandas as pd\n",
    "\n",
    "import numpy as np\n",
    "from plotly.offline import plot\n",
    "from plotly.subplots import make_subplots\n",
    "import plotly.graph_objects as go\n",
    "\n",
    "from tqdm import tqdm\n",
    "from IPython.display import HTML\n",
    "from IPython.display import SVG"
   ]
  },
  {
   "cell_type": "code",
   "execution_count": null,
   "id": "8b2ab62f-4046-483d-b93d-014158cf534c",
   "metadata": {},
   "outputs": [],
   "source": [
    "df = pd.read_csv(f'raw/nat2020_csv.zip', sep=';', compression='zip')"
   ]
  },
  {
   "cell_type": "code",
   "execution_count": null,
   "id": "1edf6120-703f-46fa-8afc-98c09877a547",
   "metadata": {},
   "outputs": [],
   "source": [
    "_PRENOMS_RARES_DIV = 20"
   ]
  },
  {
   "cell_type": "markdown",
   "id": "c7c5d9e0-b44b-4c2a-834a-e5967fb47d93",
   "metadata": {},
   "source": [
    "### top prenom"
   ]
  },
  {
   "cell_type": "code",
   "execution_count": null,
   "id": "7bc1729f-7100-4d66-a473-6d007c145162",
   "metadata": {},
   "outputs": [],
   "source": [
    "sexe = 1"
   ]
  },
  {
   "cell_type": "code",
   "execution_count": null,
   "id": "67a94754-43f8-4833-ae63-9b3b84f287a8",
   "metadata": {},
   "outputs": [],
   "source": [
    "preusuel_list = []\n",
    "for year in range(1900, 2021):\n",
    "    data = df[(df.sexe == sexe) & (df.annais == str(year))].nlargest(2, 'nombre')\n",
    "    preusuel_list.append(data)\n",
    "preusuel_list = pd.concat(preusuel_list)\n",
    "preusuel_list = preusuel_list['preusuel'].unique()"
   ]
  },
  {
   "cell_type": "code",
   "execution_count": null,
   "id": "1fac70ba-b920-4b5f-90e5-390652df41aa",
   "metadata": {},
   "outputs": [],
   "source": [
    "x = np.arange(1900, 2021)\n",
    "y_list = []\n",
    "y_label_list = []\n",
    "for preusuel in tqdm(preusuel_list):\n",
    "    y = []\n",
    "    for year in range(1900, 2021):\n",
    "        data = df[(df.sexe == sexe) & (df.annais == str(year)) & (df.preusuel == preusuel)]['nombre']\n",
    "        if(len(data) == 0):\n",
    "            y.append(0)\n",
    "        else:\n",
    "            y.append(int(data))\n",
    "    y_list.append(y)\n",
    "    y_label_list.append(preusuel)"
   ]
  },
  {
   "cell_type": "code",
   "execution_count": null,
   "id": "76900a01-d7ce-4b55-b31b-865f335241ee",
   "metadata": {},
   "outputs": [],
   "source": [
    "traces = []\n",
    "for i in range(len(y_list)):\n",
    "    traces.append({'x': x, 'y': y_list[i], 'name': y_label_list[i]})\n",
    "\n",
    "layout = go.Layout(\n",
    "    title=f'Top Prénoms {\"(Hommes)\" if sexe == 1 else \"(Femmes)\"}',\n",
    "    xaxis=dict(\n",
    "        title='Année'\n",
    "    )\n",
    ")\n",
    "plot(go.Figure(data=traces, layout=layout), filename=f\"top_prenom_{sexe}.html\")"
   ]
  },
  {
   "cell_type": "code",
   "execution_count": null,
   "id": "4185b49b-474e-4311-af10-e26d3966c663",
   "metadata": {},
   "outputs": [],
   "source": [
    "sexe = 2"
   ]
  },
  {
   "cell_type": "code",
   "execution_count": null,
   "id": "80bdb189-432c-4c6c-b02c-a64c4d88d105",
   "metadata": {},
   "outputs": [],
   "source": [
    "preusuel_list = []\n",
    "for year in range(1900, 2021):\n",
    "    data = df[(df.sexe == sexe) & (df.annais == str(year))].nlargest(2, 'nombre')\n",
    "    preusuel_list.append(data)\n",
    "preusuel_list = pd.concat(preusuel_list)\n",
    "preusuel_list = preusuel_list['preusuel'].unique()"
   ]
  },
  {
   "cell_type": "code",
   "execution_count": null,
   "id": "954849a5-d101-4365-b3d2-04bc276849b6",
   "metadata": {},
   "outputs": [],
   "source": [
    "x = np.arange(1900, 2021)\n",
    "y_list = []\n",
    "y_label_list = []\n",
    "for preusuel in tqdm(preusuel_list):\n",
    "    y = []\n",
    "    for year in range(1900, 2021):\n",
    "        data = df[(df.sexe == sexe) & (df.annais == str(year)) & (df.preusuel == preusuel)]['nombre']\n",
    "        if(len(data) == 0):\n",
    "            y.append(0)\n",
    "        else:\n",
    "            y.append(int(data))\n",
    "    y_list.append(y)\n",
    "    y_label_list.append(preusuel)"
   ]
  },
  {
   "cell_type": "code",
   "execution_count": null,
   "id": "5b44bb14-4c4f-42c8-9a1a-bd309378fbd4",
   "metadata": {},
   "outputs": [],
   "source": [
    "traces = []\n",
    "for i in range(len(y_list)):\n",
    "    traces.append({'x': x, 'y': y_list[i], 'name': y_label_list[i]})\n",
    "\n",
    "layout = go.Layout(\n",
    "    title=f'Top Prénoms {\"(Hommes)\" if sexe == 1 else \"(Femmes)\"}',\n",
    "    xaxis=dict(\n",
    "        title='Année'\n",
    "    )\n",
    ")\n",
    "plot(go.Figure(data=traces, layout=layout), filename=f\"top_prenom_{sexe}.html\")"
   ]
  },
  {
   "cell_type": "markdown",
   "id": "ec9383f8-4d90-45da-9c13-186d7e605d4b",
   "metadata": {},
   "source": [
    "### nombre prenom"
   ]
  },
  {
   "cell_type": "code",
   "execution_count": null,
   "id": "1521b789-6cba-48f8-9bea-a1b6c409de16",
   "metadata": {},
   "outputs": [],
   "source": [
    "df_norare = df[df.preusuel != '_PRENOMS_RARES']"
   ]
  },
  {
   "cell_type": "code",
   "execution_count": null,
   "id": "9f0290be-6774-467a-8ce7-c3bb50e8f33b",
   "metadata": {},
   "outputs": [],
   "source": [
    "sexe = 1\n",
    "y_1 = []\n",
    "for year in range(1900, 2021):\n",
    "    y_1.append(len(df_norare[(df_norare.sexe == sexe) & (df_norare.annais == str(year))]) +\n",
    "    int(df[(df.sexe == sexe) & (df.annais == str(year)) & (df.preusuel == '_PRENOMS_RARES')]['nombre'])//_PRENOMS_RARES_DIV)\n",
    "\n",
    "sexe = 2\n",
    "y_2 = []\n",
    "for year in range(1900, 2021):\n",
    "    y_2.append(len(df_norare[(df_norare.sexe == sexe) & (df_norare.annais == str(year))]) +\n",
    "    int(df[(df.sexe == sexe) & (df.annais == str(year)) & (df.preusuel == '_PRENOMS_RARES')]['nombre'])//_PRENOMS_RARES_DIV)"
   ]
  },
  {
   "cell_type": "code",
   "execution_count": null,
   "id": "54e7f436-af8a-4940-9d1d-96b91cd6674e",
   "metadata": {},
   "outputs": [],
   "source": [
    "x = np.arange(1900, 2021)\n",
    "traces = []\n",
    "traces.append({'x': x, 'y': y_1, 'name': 'hommes'})\n",
    "traces.append({'x': x, 'y': y_2, 'name': 'femmes'})\n",
    "\n",
    "layout = go.Layout(\n",
    "    title='Nombre de Prénoms différents',\n",
    "    xaxis=dict(\n",
    "        title='Année'\n",
    "    ),\n",
    ")\n",
    "plot(go.Figure(data=traces, layout=layout), filename=f\"nombre_prenom.html\")"
   ]
  },
  {
   "cell_type": "markdown",
   "id": "c4d1ecf8-5dea-4e47-a9d2-debdf24a52a0",
   "metadata": {},
   "source": [
    "### moyenne et écart type du nombre d'affectation"
   ]
  },
  {
   "cell_type": "code",
   "execution_count": null,
   "id": "713cf7fd-b748-4b70-8ead-4b413a2c1537",
   "metadata": {},
   "outputs": [],
   "source": [
    "df_norare = df[df.preusuel != '_PRENOMS_RARES']"
   ]
  },
  {
   "cell_type": "code",
   "execution_count": null,
   "id": "3cfa6291-8051-4bef-886e-7ccbdca60111",
   "metadata": {},
   "outputs": [],
   "source": [
    "sexe = 1\n",
    "data_1 = []\n",
    "for year in range(1900, 2021):\n",
    "    df_tmp = df_norare[(df_norare.sexe == sexe) & (df_norare.annais == str(year))]\n",
    "    data = []\n",
    "    for n in df_tmp['nombre']:\n",
    "        data.append(n)\n",
    "    for i in range(int(df[(df.sexe == sexe) & (df.annais == str(year)) & (df.preusuel == '_PRENOMS_RARES')]['nombre'])//_PRENOMS_RARES_DIV):\n",
    "        data.append(_PRENOMS_RARES_DIV)\n",
    "    data_1.append(data)\n",
    "\n",
    "sexe = 2\n",
    "data_2 = []\n",
    "for year in range(1900, 2021):\n",
    "    df_tmp = df_norare[(df_norare.sexe == sexe) & (df_norare.annais == str(year))]\n",
    "    data = []\n",
    "    for n in df_tmp['nombre']:\n",
    "        data.append(n)\n",
    "    for i in range(int(df[(df.sexe == sexe) & (df.annais == str(year)) & (df.preusuel == '_PRENOMS_RARES')]['nombre'])//_PRENOMS_RARES_DIV):\n",
    "        data.append(_PRENOMS_RARES_DIV)\n",
    "    data_2.append(data)"
   ]
  },
  {
   "cell_type": "code",
   "execution_count": null,
   "id": "7b4bc47a-055b-488e-9226-ed147f00e7ec",
   "metadata": {},
   "outputs": [],
   "source": [
    "y_1 = []\n",
    "y_2 = []\n",
    "y_1_a = []\n",
    "y_2_a = []\n",
    "for y in data_1:\n",
    "    data = np.array(y)\n",
    "    data_a = data / data.sum()\n",
    "    y_1.append(data.mean())\n",
    "    y_1_a.append(data_a.mean())\n",
    "for y in data_2:\n",
    "    data = np.array(y)\n",
    "    data_a = data / data.sum()\n",
    "    y_2.append(data.mean())\n",
    "    y_2_a.append(data_a.mean())"
   ]
  },
  {
   "cell_type": "code",
   "execution_count": null,
   "id": "1f9b92c7-7ab4-4a66-98ef-c3538e7317e5",
   "metadata": {},
   "outputs": [],
   "source": [
    "fig = make_subplots(specs=[[{'secondary_y': True}]])\n",
    "\n",
    "fig.add_trace(go.Scatter(x=x, y=y_1_a, name=\"hommes (normalisé)\"), secondary_y=True)\n",
    "fig.add_trace(go.Scatter(x=x, y=y_2_a, name=\"femmes (normalisé)\"), secondary_y=True)\n",
    "fig.add_trace(go.Scatter(x=x, y=y_1, name=\"hommes (brutes)\", visible='legendonly'), secondary_y=False)\n",
    "fig.add_trace(go.Scatter(x=x, y=y_2, name=\"femmes (brutes)\", visible='legendonly'), secondary_y=False)\n",
    "fig.layout.title = \"Moyenne du nombre d'affectation (normalisation par la somme des affectations)\"\n",
    "\n",
    "plot(fig, filename=f\"affectation_mean.html\")"
   ]
  },
  {
   "cell_type": "code",
   "execution_count": null,
   "id": "85c0b4fe-572d-4028-9851-f95d80dfeb17",
   "metadata": {},
   "outputs": [],
   "source": [
    "y_1 = []\n",
    "y_2 = []\n",
    "y_1_a = []\n",
    "y_2_a = []\n",
    "for y in data_1:\n",
    "    data = np.array(y)\n",
    "    data_a = data / data.sum()\n",
    "    y_1.append(data.std())\n",
    "    y_1_a.append(data_a.std())\n",
    "for y in data_2:\n",
    "    data = np.array(y)\n",
    "    data_a = data / data.sum()\n",
    "    y_2.append(data.std())\n",
    "    y_2_a.append(data_a.std())"
   ]
  },
  {
   "cell_type": "code",
   "execution_count": null,
   "id": "e8d2a153-743d-427d-afbc-053f311b7b2b",
   "metadata": {},
   "outputs": [],
   "source": [
    "fig = make_subplots(specs=[[{'secondary_y': True}]])\n",
    "\n",
    "fig.add_trace(go.Scatter(x=x, y=y_1_a, name=\"hommes (normalisé)\"), secondary_y=True)\n",
    "fig.add_trace(go.Scatter(x=x, y=y_2_a, name=\"femmes (normalisé)\"), secondary_y=True)\n",
    "fig.add_trace(go.Scatter(x=x, y=y_1, name=\"hommes (brutes)\", visible='legendonly'), secondary_y=False)\n",
    "fig.add_trace(go.Scatter(x=x, y=y_2, name=\"femmes (brutes)\", visible='legendonly'), secondary_y=False)\n",
    "fig.layout.title = \"Ecart-type du nombre d'affectation (normalisation par la somme des affectations)\"\n",
    "\n",
    "plot(fig, filename=f\"affectation_std.html\")"
   ]
  },
  {
   "cell_type": "code",
   "execution_count": null,
   "id": "2d9d5ae7-2e09-4422-8109-0f3ad6a996c8",
   "metadata": {},
   "outputs": [],
   "source": []
  }
 ],
 "metadata": {
  "kernelspec": {
   "display_name": "Python 3 (ipykernel)",
   "language": "python",
   "name": "python3"
  },
  "language_info": {
   "codemirror_mode": {
    "name": "ipython",
    "version": 3
   },
   "file_extension": ".py",
   "mimetype": "text/x-python",
   "name": "python",
   "nbconvert_exporter": "python",
   "pygments_lexer": "ipython3",
   "version": "3.7.9"
  }
 },
 "nbformat": 4,
 "nbformat_minor": 5
}
